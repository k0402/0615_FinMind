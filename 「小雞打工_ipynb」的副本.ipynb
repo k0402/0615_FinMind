{
  "nbformat": 4,
  "nbformat_minor": 0,
  "metadata": {
    "colab": {
      "provenance": [],
      "authorship_tag": "ABX9TyMzsCrcZ+p0giRvUcfrm3h9",
      "include_colab_link": true
    },
    "kernelspec": {
      "name": "python3",
      "display_name": "Python 3"
    },
    "language_info": {
      "name": "python"
    }
  },
  "cells": [
    {
      "cell_type": "markdown",
      "metadata": {
        "id": "view-in-github",
        "colab_type": "text"
      },
      "source": [
        "<a href=\"https://colab.research.google.com/github/k0402/0615_FinMind/blob/main/%E3%80%8C%E5%B0%8F%E9%9B%9E%E6%89%93%E5%B7%A5_ipynb%E3%80%8D%E7%9A%84%E5%89%AF%E6%9C%AC.ipynb\" target=\"_parent\"><img src=\"https://colab.research.google.com/assets/colab-badge.svg\" alt=\"Open In Colab\"/></a>"
      ]
    },
    {
      "cell_type": "code",
      "execution_count": null,
      "metadata": {
        "colab": {
          "base_uri": "https://localhost:8080/",
          "height": 35
        },
        "id": "edRDL3yjoTAb",
        "outputId": "595395f8-5262-414a-d58d-cec58063a5ca"
      },
      "outputs": [
        {
          "output_type": "execute_result",
          "data": {
            "text/plain": [
              "'pages_html.zip'"
            ],
            "application/vnd.google.colaboratory.intrinsic+json": {
              "type": "string"
            }
          },
          "metadata": {},
          "execution_count": 1
        }
      ],
      "source": [
        "import requests\n",
        "from bs4 import BeautifulSoup\n",
        "import zipfile\n",
        "import os\n",
        "\n",
        "# Function to scrape the content of a page and return HTML content\n",
        "def scrape_page_to_html(page):\n",
        "    url = f\"https://www.chickpt.com.tw/?area=Kaohsiung&page={page}\"\n",
        "    response = requests.get(url)\n",
        "    soup = BeautifulSoup(response.content, 'html.parser')\n",
        "\n",
        "    # Convert to HTML\n",
        "    html_content = soup.prettify(formatter=\"html\")\n",
        "\n",
        "    # Save to HTML file\n",
        "    html_filename = f\"page_{page}.html\"\n",
        "    with open(html_filename, 'w', encoding='utf-8') as html_file:\n",
        "        html_file.write(html_content)\n",
        "\n",
        "    return html_filename\n",
        "\n",
        "# Create a zip file to store all HTML files\n",
        "zip_filename = \"pages_html.zip\"\n",
        "with zipfile.ZipFile(zip_filename, 'w') as zipf:\n",
        "    # Loop through pages 1 to 10 and scrape each\n",
        "    for page in range(1, 11):\n",
        "        html_filename = scrape_page_to_html(page)\n",
        "        zipf.write(html_filename)\n",
        "        os.remove(html_filename)  # Remove the HTML file after adding it to zip\n",
        "\n",
        "zip_filename\n",
        "\n"
      ]
    }
  ]
}