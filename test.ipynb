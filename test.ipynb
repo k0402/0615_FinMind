{
  "nbformat": 4,
  "nbformat_minor": 0,
  "metadata": {
    "colab": {
      "provenance": [],
      "authorship_tag": "ABX9TyPeyExtwni9ul4XkrFpDPKD",
      "include_colab_link": true
    },
    "kernelspec": {
      "name": "python3",
      "display_name": "Python 3"
    },
    "language_info": {
      "name": "python"
    }
  },
  "cells": [
    {
      "cell_type": "markdown",
      "metadata": {
        "id": "view-in-github",
        "colab_type": "text"
      },
      "source": [
        "<a href=\"https://colab.research.google.com/github/k0402/0615_FinMind/blob/main/test.ipynb\" target=\"_parent\"><img src=\"https://colab.research.google.com/assets/colab-badge.svg\" alt=\"Open In Colab\"/></a>"
      ]
    },
    {
      "cell_type": "code",
      "execution_count": 1,
      "metadata": {
        "id": "6WHNLain0kd7",
        "colab": {
          "base_uri": "https://localhost:8080/"
        },
        "outputId": "306ce5ea-441a-466e-b888-b87cfd1d6435"
      },
      "outputs": [
        {
          "output_type": "stream",
          "name": "stdout",
          "text": [
            "Collecting FinMind\n",
            "  Downloading FinMind-1.6.9-py3-none-any.whl (60 kB)\n",
            "\u001b[2K     \u001b[90m━━━━━━━━━━━━━━━━━━━━━━━━━━━━━━━━━━━━━━━━\u001b[0m \u001b[32m60.6/60.6 kB\u001b[0m \u001b[31m842.1 kB/s\u001b[0m eta \u001b[36m0:00:00\u001b[0m\n",
            "\u001b[?25hRequirement already satisfied: pandas>=1.1.5 in /usr/local/lib/python3.10/dist-packages (from FinMind) (2.0.3)\n",
            "Requirement already satisfied: numpy>=1.19.5 in /usr/local/lib/python3.10/dist-packages (from FinMind) (1.25.2)\n",
            "Requirement already satisfied: requests>=2.23.0 in /usr/local/lib/python3.10/dist-packages (from FinMind) (2.31.0)\n",
            "Requirement already satisfied: pydantic>=1.6.1 in /usr/local/lib/python3.10/dist-packages (from FinMind) (2.7.3)\n",
            "Collecting ta~=0.5.25 (from FinMind)\n",
            "  Downloading ta-0.5.25.tar.gz (20 kB)\n",
            "  Preparing metadata (setup.py) ... \u001b[?25l\u001b[?25hdone\n",
            "Requirement already satisfied: pytest>=6.2.2 in /usr/local/lib/python3.10/dist-packages (from FinMind) (7.4.4)\n",
            "Requirement already satisfied: lxml>=4.6.3 in /usr/local/lib/python3.10/dist-packages (from FinMind) (4.9.4)\n",
            "Collecting pyecharts>=1.9.0 (from FinMind)\n",
            "  Downloading pyecharts-2.0.5-py3-none-any.whl (146 kB)\n",
            "\u001b[2K     \u001b[90m━━━━━━━━━━━━━━━━━━━━━━━━━━━━━━━━━━━━━━━━\u001b[0m \u001b[32m146.3/146.3 kB\u001b[0m \u001b[31m2.3 MB/s\u001b[0m eta \u001b[36m0:00:00\u001b[0m\n",
            "\u001b[?25hRequirement already satisfied: ipython>=7.16.1 in /usr/local/lib/python3.10/dist-packages (from FinMind) (7.34.0)\n",
            "Collecting loguru>=0.5.3 (from FinMind)\n",
            "  Downloading loguru-0.7.2-py3-none-any.whl (62 kB)\n",
            "\u001b[2K     \u001b[90m━━━━━━━━━━━━━━━━━━━━━━━━━━━━━━━━━━━━━━━━\u001b[0m \u001b[32m62.5/62.5 kB\u001b[0m \u001b[31m5.4 MB/s\u001b[0m eta \u001b[36m0:00:00\u001b[0m\n",
            "\u001b[?25hRequirement already satisfied: setuptools>=49.2.1 in /usr/local/lib/python3.10/dist-packages (from FinMind) (67.7.2)\n",
            "Requirement already satisfied: aiohttp>=3.7.4.post0 in /usr/local/lib/python3.10/dist-packages (from FinMind) (3.9.5)\n",
            "Requirement already satisfied: flask>=2.0.1 in /usr/local/lib/python3.10/dist-packages (from FinMind) (2.2.5)\n",
            "Requirement already satisfied: importlib-metadata>=4.8.1 in /usr/local/lib/python3.10/dist-packages (from FinMind) (7.1.0)\n",
            "Requirement already satisfied: aiosignal>=1.1.2 in /usr/local/lib/python3.10/dist-packages (from aiohttp>=3.7.4.post0->FinMind) (1.3.1)\n",
            "Requirement already satisfied: attrs>=17.3.0 in /usr/local/lib/python3.10/dist-packages (from aiohttp>=3.7.4.post0->FinMind) (23.2.0)\n",
            "Requirement already satisfied: frozenlist>=1.1.1 in /usr/local/lib/python3.10/dist-packages (from aiohttp>=3.7.4.post0->FinMind) (1.4.1)\n",
            "Requirement already satisfied: multidict<7.0,>=4.5 in /usr/local/lib/python3.10/dist-packages (from aiohttp>=3.7.4.post0->FinMind) (6.0.5)\n",
            "Requirement already satisfied: yarl<2.0,>=1.0 in /usr/local/lib/python3.10/dist-packages (from aiohttp>=3.7.4.post0->FinMind) (1.9.4)\n",
            "Requirement already satisfied: async-timeout<5.0,>=4.0 in /usr/local/lib/python3.10/dist-packages (from aiohttp>=3.7.4.post0->FinMind) (4.0.3)\n",
            "Requirement already satisfied: Werkzeug>=2.2.2 in /usr/local/lib/python3.10/dist-packages (from flask>=2.0.1->FinMind) (3.0.3)\n",
            "Requirement already satisfied: Jinja2>=3.0 in /usr/local/lib/python3.10/dist-packages (from flask>=2.0.1->FinMind) (3.1.4)\n",
            "Requirement already satisfied: itsdangerous>=2.0 in /usr/local/lib/python3.10/dist-packages (from flask>=2.0.1->FinMind) (2.2.0)\n",
            "Requirement already satisfied: click>=8.0 in /usr/local/lib/python3.10/dist-packages (from flask>=2.0.1->FinMind) (8.1.7)\n",
            "Requirement already satisfied: zipp>=0.5 in /usr/local/lib/python3.10/dist-packages (from importlib-metadata>=4.8.1->FinMind) (3.19.2)\n",
            "Collecting jedi>=0.16 (from ipython>=7.16.1->FinMind)\n",
            "  Downloading jedi-0.19.1-py2.py3-none-any.whl (1.6 MB)\n",
            "\u001b[2K     \u001b[90m━━━━━━━━━━━━━━━━━━━━━━━━━━━━━━━━━━━━━━━━\u001b[0m \u001b[32m1.6/1.6 MB\u001b[0m \u001b[31m11.4 MB/s\u001b[0m eta \u001b[36m0:00:00\u001b[0m\n",
            "\u001b[?25hRequirement already satisfied: decorator in /usr/local/lib/python3.10/dist-packages (from ipython>=7.16.1->FinMind) (4.4.2)\n",
            "Requirement already satisfied: pickleshare in /usr/local/lib/python3.10/dist-packages (from ipython>=7.16.1->FinMind) (0.7.5)\n",
            "Requirement already satisfied: traitlets>=4.2 in /usr/local/lib/python3.10/dist-packages (from ipython>=7.16.1->FinMind) (5.7.1)\n",
            "Requirement already satisfied: prompt-toolkit!=3.0.0,!=3.0.1,<3.1.0,>=2.0.0 in /usr/local/lib/python3.10/dist-packages (from ipython>=7.16.1->FinMind) (3.0.47)\n",
            "Requirement already satisfied: pygments in /usr/local/lib/python3.10/dist-packages (from ipython>=7.16.1->FinMind) (2.16.1)\n",
            "Requirement already satisfied: backcall in /usr/local/lib/python3.10/dist-packages (from ipython>=7.16.1->FinMind) (0.2.0)\n",
            "Requirement already satisfied: matplotlib-inline in /usr/local/lib/python3.10/dist-packages (from ipython>=7.16.1->FinMind) (0.1.7)\n",
            "Requirement already satisfied: pexpect>4.3 in /usr/local/lib/python3.10/dist-packages (from ipython>=7.16.1->FinMind) (4.9.0)\n",
            "Requirement already satisfied: python-dateutil>=2.8.2 in /usr/local/lib/python3.10/dist-packages (from pandas>=1.1.5->FinMind) (2.8.2)\n",
            "Requirement already satisfied: pytz>=2020.1 in /usr/local/lib/python3.10/dist-packages (from pandas>=1.1.5->FinMind) (2023.4)\n",
            "Requirement already satisfied: tzdata>=2022.1 in /usr/local/lib/python3.10/dist-packages (from pandas>=1.1.5->FinMind) (2024.1)\n",
            "Requirement already satisfied: annotated-types>=0.4.0 in /usr/local/lib/python3.10/dist-packages (from pydantic>=1.6.1->FinMind) (0.7.0)\n",
            "Requirement already satisfied: pydantic-core==2.18.4 in /usr/local/lib/python3.10/dist-packages (from pydantic>=1.6.1->FinMind) (2.18.4)\n",
            "Requirement already satisfied: typing-extensions>=4.6.1 in /usr/local/lib/python3.10/dist-packages (from pydantic>=1.6.1->FinMind) (4.12.2)\n",
            "Requirement already satisfied: prettytable in /usr/local/lib/python3.10/dist-packages (from pyecharts>=1.9.0->FinMind) (3.10.0)\n",
            "Collecting simplejson (from pyecharts>=1.9.0->FinMind)\n",
            "  Downloading simplejson-3.19.2-cp310-cp310-manylinux_2_5_x86_64.manylinux1_x86_64.manylinux_2_17_x86_64.manylinux2014_x86_64.whl (137 kB)\n",
            "\u001b[2K     \u001b[90m━━━━━━━━━━━━━━━━━━━━━━━━━━━━━━━━━━━━━━━━\u001b[0m \u001b[32m137.9/137.9 kB\u001b[0m \u001b[31m5.0 MB/s\u001b[0m eta \u001b[36m0:00:00\u001b[0m\n",
            "\u001b[?25hRequirement already satisfied: iniconfig in /usr/local/lib/python3.10/dist-packages (from pytest>=6.2.2->FinMind) (2.0.0)\n",
            "Requirement already satisfied: packaging in /usr/local/lib/python3.10/dist-packages (from pytest>=6.2.2->FinMind) (24.1)\n",
            "Requirement already satisfied: pluggy<2.0,>=0.12 in /usr/local/lib/python3.10/dist-packages (from pytest>=6.2.2->FinMind) (1.5.0)\n",
            "Requirement already satisfied: exceptiongroup>=1.0.0rc8 in /usr/local/lib/python3.10/dist-packages (from pytest>=6.2.2->FinMind) (1.2.1)\n",
            "Requirement already satisfied: tomli>=1.0.0 in /usr/local/lib/python3.10/dist-packages (from pytest>=6.2.2->FinMind) (2.0.1)\n",
            "Requirement already satisfied: charset-normalizer<4,>=2 in /usr/local/lib/python3.10/dist-packages (from requests>=2.23.0->FinMind) (3.3.2)\n",
            "Requirement already satisfied: idna<4,>=2.5 in /usr/local/lib/python3.10/dist-packages (from requests>=2.23.0->FinMind) (3.7)\n",
            "Requirement already satisfied: urllib3<3,>=1.21.1 in /usr/local/lib/python3.10/dist-packages (from requests>=2.23.0->FinMind) (2.0.7)\n",
            "Requirement already satisfied: certifi>=2017.4.17 in /usr/local/lib/python3.10/dist-packages (from requests>=2.23.0->FinMind) (2024.6.2)\n",
            "Requirement already satisfied: parso<0.9.0,>=0.8.3 in /usr/local/lib/python3.10/dist-packages (from jedi>=0.16->ipython>=7.16.1->FinMind) (0.8.4)\n",
            "Requirement already satisfied: MarkupSafe>=2.0 in /usr/local/lib/python3.10/dist-packages (from Jinja2>=3.0->flask>=2.0.1->FinMind) (2.1.5)\n",
            "Requirement already satisfied: ptyprocess>=0.5 in /usr/local/lib/python3.10/dist-packages (from pexpect>4.3->ipython>=7.16.1->FinMind) (0.7.0)\n",
            "Requirement already satisfied: wcwidth in /usr/local/lib/python3.10/dist-packages (from prompt-toolkit!=3.0.0,!=3.0.1,<3.1.0,>=2.0.0->ipython>=7.16.1->FinMind) (0.2.13)\n",
            "Requirement already satisfied: six>=1.5 in /usr/local/lib/python3.10/dist-packages (from python-dateutil>=2.8.2->pandas>=1.1.5->FinMind) (1.16.0)\n",
            "Building wheels for collected packages: ta\n",
            "  Building wheel for ta (setup.py) ... \u001b[?25l\u001b[?25hdone\n",
            "  Created wheel for ta: filename=ta-0.5.25-py3-none-any.whl size=24861 sha256=74b9a9aaa21fcbe9fa376a80220d960abd3501edd32c1ecfd6150d2b0b651f87\n",
            "  Stored in directory: /root/.cache/pip/wheels/d4/bd/c4/0dda911b5461ee856352cd8c9e16472229bb51c95e74b74c08\n",
            "Successfully built ta\n",
            "Installing collected packages: simplejson, loguru, jedi, pyecharts, ta, FinMind\n",
            "Successfully installed FinMind-1.6.9 jedi-0.19.1 loguru-0.7.2 pyecharts-2.0.5 simplejson-3.19.2 ta-0.5.25\n"
          ]
        },
        {
          "output_type": "stream",
          "name": "stderr",
          "text": [
            "\u001b[32m2024-06-14 03:39:16.879\u001b[0m | \u001b[1mINFO    \u001b[0m | \u001b[36mFinMind.data.finmind_api\u001b[0m:\u001b[36mget_data\u001b[0m:\u001b[36m125\u001b[0m - \u001b[1mdownload TaiwanStockPrice, data_id: 0050\u001b[0m\n",
            "\u001b[32m2024-06-14 03:39:18.970\u001b[0m | \u001b[1mINFO    \u001b[0m | \u001b[36mFinMind.data.finmind_api\u001b[0m:\u001b[36mget_data\u001b[0m:\u001b[36m125\u001b[0m - \u001b[1mdownload TaiwanStockPrice, data_id: 0050\u001b[0m\n"
          ]
        },
        {
          "output_type": "stream",
          "name": "stdout",
          "text": [
            "資料已成功匯出至 taiwan1_index_monthly_2000_2024.xlsx\n"
          ]
        }
      ],
      "source": [
        "!pip install FinMind\n",
        "from FinMind.data import DataLoader\n",
        "import pandas as pd\n",
        "\n",
        "\n",
        "stock_no = '0050'\n",
        "dl = DataLoader()\n",
        "stock_data = dl.taiwan_stock_daily(stock_id=stock_no, start_date='2000-01-01')\n",
        "stock_data.head()\n",
        "# 設定資料範圍從 2000 年 1 月到 2024 年 5 月\n",
        "start_date = '2000-01-01'\n",
        "end_date = '2024-05-31'\n",
        "\n",
        "\n",
        "# 抓取臺灣大盤指數（TAIEX）的每日資料\n",
        "df = dl.taiwan_stock_daily(\n",
        "    stock_id='0050',  # 0050 代表台灣加權指數 ETF（可以用於代表大盤指數）\n",
        "    start_date=start_date,\n",
        "    end_date=end_date\n",
        ")\n",
        "\n",
        "\n",
        "# 確保資料按照日期排序\n",
        "df['date'] = pd.to_datetime(df['date'])\n",
        "df = df.sort_values('date')\n",
        "\n",
        "\n",
        "# 將每日資料轉換為每月最後一日的資料\n",
        "df = df.set_index('date')\n",
        "monthly_df = df.resample('M').last()\n",
        "\n",
        "\n",
        "# 過濾所需的欄位\n",
        "monthly_df = monthly_df[['close']]\n",
        "\n",
        "\n",
        "# 匯出成 Excel 檔案\n",
        "monthly_df.to_excel('taiwan1_index_monthly_2000_2024.xlsx')\n",
        "\n",
        "\n",
        "print(\"資料已成功匯出至 taiwan1_index_monthly_2000_2024.xlsx\")"
      ]
    }
  ]
}