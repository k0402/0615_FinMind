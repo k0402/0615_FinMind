{
  "nbformat": 4,
  "nbformat_minor": 0,
  "metadata": {
    "colab": {
      "provenance": [],
      "authorship_tag": "ABX9TyNx+/yrubYgUpOn0ENZAAAR",
      "include_colab_link": true
    },
    "kernelspec": {
      "name": "python3",
      "display_name": "Python 3"
    },
    "language_info": {
      "name": "python"
    }
  },
  "cells": [
    {
      "cell_type": "markdown",
      "metadata": {
        "id": "view-in-github",
        "colab_type": "text"
      },
      "source": [
        "<a href=\"https://colab.research.google.com/github/k0402/0615_FinMind/blob/main/%E5%85%A9%E7%AD%86%E8%B3%87%E6%96%99%E5%8C%AF%E5%87%BA.ipynb\" target=\"_parent\"><img src=\"https://colab.research.google.com/assets/colab-badge.svg\" alt=\"Open In Colab\"/></a>"
      ]
    },
    {
      "cell_type": "code",
      "execution_count": null,
      "metadata": {
        "id": "gDiI4I98c38F"
      },
      "outputs": [],
      "source": [
        "# 安裝 FinMind 套件\n",
        "!pip install FinMind\n",
        "\n",
        "# 匯入所需的模組\n",
        "from FinMind.data import DataLoader\n",
        "import pandas as pd\n",
        "\n",
        "# 建立 DataLoader 物件\n",
        "dl = DataLoader()\n",
        "\n",
        "# 設定資料範圍從 2000 年 1 月到 2024 年 6 月\n",
        "start_date = '2000-01-01'\n",
        "end_date = '2024-06-14'\n",
        "\n",
        "# 抓取臺灣大盤指數（TAIEX）和 0050 的每日資料\n",
        "df_taiex = dl.taiwan_stock_daily(\n",
        "    stock_id='TAIEX',\n",
        "    start_date=start_date,\n",
        "    end_date=end_date\n",
        ")\n",
        "\n",
        "df_0050 = dl.taiwan_stock_daily(\n",
        "    stock_id='0050',\n",
        "    start_date=start_date,\n",
        "    end_date=end_date\n",
        ")\n",
        "\n",
        "# 確保資料按照日期排序\n",
        "df_taiex['date'] = pd.to_datetime(df_taiex['date'])\n",
        "df_0050['date'] = pd.to_datetime(df_0050['date'])\n",
        "\n",
        "df_taiex = df_taiex.sort_values('date')\n",
        "df_0050 = df_0050.sort_values('date')\n",
        "\n",
        "# 將每日資料轉換為每月最後一日的資料\n",
        "df_taiex = df_taiex.set_index('date')\n",
        "monthly_df_taiex = df_taiex.resample('M').last()\n",
        "\n",
        "df_0050 = df_0050.set_index('date')\n",
        "monthly_df_0050 = df_0050.resample('M').last()\n",
        "\n",
        "# 過濾所需的欄位\n",
        "monthly_df_taiex = monthly_df_taiex[['close']]\n",
        "monthly_df_0050 = monthly_df_0050[['close']]\n",
        "\n",
        "# 重命名欄位以便區分\n",
        "monthly_df_taiex.columns = ['TAIEX_close']\n",
        "monthly_df_0050.columns = ['0050_close']\n",
        "\n",
        "# 合併兩筆資料\n",
        "monthly_df = pd.concat([monthly_df_taiex, monthly_df_0050], axis=1)\n",
        "\n",
        "# 匯出成 Excel 檔案\n",
        "monthly_df.to_excel('taiwan_index_monthly_2000_2024.xlsx')\n",
        "\n",
        "print(\"資料已成功匯出至 taiwan_index_monthly_2000_2024.xlsx\")\n"
      ]
    }
  ]
}