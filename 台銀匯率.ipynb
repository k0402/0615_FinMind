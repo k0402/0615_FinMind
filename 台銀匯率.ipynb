{
  "nbformat": 4,
  "nbformat_minor": 0,
  "metadata": {
    "colab": {
      "provenance": [],
      "authorship_tag": "ABX9TyMpL28GsUiBn0npveyAAqPI",
      "include_colab_link": true
    },
    "kernelspec": {
      "name": "python3",
      "display_name": "Python 3"
    },
    "language_info": {
      "name": "python"
    }
  },
  "cells": [
    {
      "cell_type": "markdown",
      "metadata": {
        "id": "view-in-github",
        "colab_type": "text"
      },
      "source": [
        "<a href=\"https://colab.research.google.com/github/k0402/0615_FinMind/blob/main/%E5%8F%B0%E9%8A%80%E5%8C%AF%E7%8E%87.ipynb\" target=\"_parent\"><img src=\"https://colab.research.google.com/assets/colab-badge.svg\" alt=\"Open In Colab\"/></a>"
      ]
    },
    {
      "cell_type": "code",
      "execution_count": 1,
      "metadata": {
        "colab": {
          "base_uri": "https://localhost:8080/"
        },
        "id": "pn-MiJxgVKp5",
        "outputId": "b9cdf086-0968-4d6b-a355-036cb78e64b6"
      },
      "outputs": [
        {
          "output_type": "stream",
          "name": "stdout",
          "text": [
            "2024-06-19                                             幣別     本行買入     本行賣出     中間匯率\n",
            "幣別                                                                       \n",
            "美金 (USD)  美金 (USD)          美金 (USD)  美金 (USD)  32.3050  32.4050  32.3550\n",
            "港幣 (HKD)  港幣 (HKD)          港幣 (HKD)  港幣 (HKD)   4.1140   4.1740   4.1440\n",
            "英鎊 (GBP)  英鎊 (GBP)          英鎊 (GBP)  英鎊 (GBP)  40.9900  41.3900  41.1900\n",
            "澳幣 (AUD)  澳幣 (AUD)          澳幣 (AUD)  澳幣 (AUD)  21.4800  21.6800  21.5800\n",
            "加拿大幣 (CAD)  加拿大幣 (CAD)  加拿大幣 (CAD)  加拿大幣 (CAD)  23.4900  23.6900  23.5900\n",
            "新加坡幣 (SGD)  新加坡幣 (SGD)  新加坡幣 (SGD)  新加坡幣 (SGD)  23.8700  24.0500  23.9600\n",
            "瑞士法郎 (CHF)  瑞士法郎 (CHF)  瑞士法郎 (CHF)  瑞士法郎 (CHF)  36.4700  36.7200  36.5950\n",
            "日圓 (JPY)  日圓 (JPY)          日圓 (JPY)  日圓 (JPY)   0.2031   0.2071   0.2051\n",
            "南非幣 (ZAR)  南非幣 (ZAR)      南非幣 (ZAR)  南非幣 (ZAR)   1.7640   1.8440   1.8040\n",
            "瑞典幣 (SEK)  瑞典幣 (SEK)      瑞典幣 (SEK)  瑞典幣 (SEK)   3.0600   3.1600   3.1100\n",
            "紐元 (NZD)  紐元 (NZD)          紐元 (NZD)  紐元 (NZD)  19.7600  19.9600  19.8600\n",
            "泰幣 (THB)  泰幣 (THB)          泰幣 (THB)  泰幣 (THB)   0.8670   0.9070   0.8870\n",
            "菲國比索 (PHP)  菲國比索 (PHP)  菲國比索 (PHP)  菲國比索 (PHP)      NaN      NaN      NaN\n",
            "印尼幣 (IDR)  印尼幣 (IDR)      印尼幣 (IDR)  印尼幣 (IDR)      NaN      NaN      NaN\n",
            "歐元 (EUR)  歐元 (EUR)          歐元 (EUR)  歐元 (EUR)  34.5400  34.9400  34.7400\n",
            "韓元 (KRW)  韓元 (KRW)          韓元 (KRW)  韓元 (KRW)      NaN      NaN      NaN\n",
            "越南盾 (VND)  越南盾 (VND)      越南盾 (VND)  越南盾 (VND)      NaN      NaN      NaN\n",
            "馬來幣 (MYR)  馬來幣 (MYR)      馬來幣 (MYR)  馬來幣 (MYR)      NaN      NaN      NaN\n",
            "人民幣 (CNY)  人民幣 (CNY)      人民幣 (CNY)  人民幣 (CNY)   4.4220   4.4720   4.4470\n"
          ]
        }
      ],
      "source": [
        "import pandas\n",
        "import numpy\n",
        "import datetime\n",
        "\n",
        "todday = datetime.datetime.today() # 今天日期\n",
        "delta = datetime.timedelta(days=1) # 要查詢遞延幾天的匯率\n",
        "day = todday - delta # 時間計算\n",
        "\n",
        "# 取得資料\n",
        "day = day.strftime('%Y-%m-%d')\n",
        "url = 'https://rate.bot.com.tw/xrt/all/' + day\n",
        "data = pandas.read_html(url)\n",
        "\n",
        "# 重組df\n",
        "df = data[0]\n",
        "df = df.replace('-', numpy.nan)\n",
        "\n",
        "re_df = data[0]['幣別']\n",
        "\n",
        "re_df = re_df.join(df['Unnamed: 3_level_0']['本行賣出'].astype(float)).join(df['即期匯率']['本行買入'].astype(float))\n",
        "re_df.columns = ['幣別', '本行買入', '本行賣出']\n",
        "re_df.index = re_df['幣別']\n",
        "re_df['中間匯率'] = (re_df['本行買入'] + re_df['本行賣出']) / 2 # 計算中間匯率 (買+賣)/2\n",
        "\n",
        "print(day, re_df) # 顯示"
      ]
    }
  ]
}