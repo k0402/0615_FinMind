{
  "nbformat": 4,
  "nbformat_minor": 0,
  "metadata": {
    "colab": {
      "provenance": [],
      "authorship_tag": "ABX9TyNjIwSeC1h6I1oyt7yy4sG5",
      "include_colab_link": true
    },
    "kernelspec": {
      "name": "python3",
      "display_name": "Python 3"
    },
    "language_info": {
      "name": "python"
    }
  },
  "cells": [
    {
      "cell_type": "markdown",
      "metadata": {
        "id": "view-in-github",
        "colab_type": "text"
      },
      "source": [
        "<a href=\"https://colab.research.google.com/github/k0402/0615_FinMind/blob/main/Ubike_2.ipynb\" target=\"_parent\"><img src=\"https://colab.research.google.com/assets/colab-badge.svg\" alt=\"Open In Colab\"/></a>"
      ]
    },
    {
      "cell_type": "code",
      "source": [
        "\n",
        "import requests\n",
        "\n",
        "fname = \"Youbike2.json\"\n",
        "url = \"https://tcgbusfs.blob.core.windows.net/dotapp/youbike/v2/youbike_immediate.json\"\n",
        "\n",
        "r = requests.get(url)\n",
        "if r.status_code == 200:\n",
        "    r.encoding = \"utf-8\"\n",
        "    with open(fname, 'w', encoding=\"utf8\") as fp:\n",
        "        fp.write(r.text)\n",
        "\n",
        "        import pandas as pd\n",
        "import json\n",
        "\n",
        "# 假设你的 JSON 文件名为 'data.json'\n",
        "json_file_path = 'Youbike2.json'\n",
        "\n",
        "# 读取 JSON 文件\n",
        "with open(json_file_path, 'r') as file:\n",
        "    data = json.load(file)\n",
        "\n",
        "# 将 JSON 数据转换为 DataFrame\n",
        "df = pd.json_normalize(data)\n",
        "\n",
        "# 显示 DataFrame\n",
        "print(df)\n",
        "import pandas as pd\n",
        "\n",
        "# 读取 JSON 文件\n",
        "json_file_path = 'Youbike2.json'\n",
        "data = pd.read_json(json_file_path)\n",
        "\n",
        "# 将数据写入 Excel 文件\n",
        "excel_file_path = 'file.xlsx'\n",
        "data.to_excel(excel_file_path, index=False)\n"
      ],
      "metadata": {
        "colab": {
          "base_uri": "https://localhost:8080/"
        },
        "id": "A0UGz5QIoitX",
        "outputId": "aedcb922-3e55-456b-c11e-d321c351cba2"
      },
      "execution_count": 49,
      "outputs": [
        {
          "output_type": "stream",
          "name": "stdout",
          "text": [
            "            sno                       sna   sarea                 mday  \\\n",
            "0     500101001        YouBike2.0_捷運科技大樓站     大安區  2024-07-10 11:18:19   \n",
            "1     500101002    YouBike2.0_復興南路二段273號前     大安區  2024-07-10 11:15:21   \n",
            "2     500101003      YouBike2.0_國北教大實小東側門     大安區  2024-07-10 10:40:27   \n",
            "3     500101004         YouBike2.0_和平公園東側     大安區  2024-07-10 11:19:20   \n",
            "4     500101005      YouBike2.0_辛亥復興路口西北側     大安區  2024-07-10 11:19:20   \n",
            "...         ...                       ...     ...                  ...   \n",
            "1425  500119087      YouBike2.0_臺大總圖書館西南側  臺大公館校區  2024-07-10 11:13:15   \n",
            "1426  500119088        YouBike2.0_臺大黑森林西側  臺大公館校區  2024-07-10 11:18:19   \n",
            "1427  500119089        YouBike2.0_臺大獸醫館南側  臺大公館校區  2024-07-10 10:47:15   \n",
            "1428  500119090      YouBike2.0_臺大新體育館東南側  臺大公館校區  2024-07-10 11:14:14   \n",
            "1429  500119091  YouBike2.0_臺大明達館北側(員工宿舍)  臺大公館校區  2024-07-10 10:57:21   \n",
            "\n",
            "                 ar     sareaen  \\\n",
            "0       復興南路二段235號前  Daan Dist.   \n",
            "1      復興南路二段273號西側  Daan Dist.   \n",
            "2       和平東路二段96巷7號  Daan Dist.   \n",
            "3     和平東路二段118巷33號  Daan Dist.   \n",
            "4        復興南路二段368號  Daan Dist.   \n",
            "...             ...         ...   \n",
            "1425       臺大圖書館西南側    NTU Dist   \n",
            "1426        臺大霖澤館南側    NTU Dist   \n",
            "1427       臺大獸醫系館南側    NTU Dist   \n",
            "1428        臺大體育館東側    NTU Dist   \n",
            "1429       明達館北側前空地    NTU Dist   \n",
            "\n",
            "                                                  snaen  \\\n",
            "0                  YouBike2.0_MRT Technology Bldg. Sta.   \n",
            "1              YouBike2.0_No.273， Sec. 2， Fuxing S. Rd.   \n",
            "2     YouBike2.0_NTUE Experiment Elementary School (...   \n",
            "3                         YouBike2.0_Heping Park (East)   \n",
            "4     YouBike2.0_Xinhai Fuxing Rd. Intersection (Nor...   \n",
            "...                                                 ...   \n",
            "1425             YouBike2.0_NTU Main Library(Southwest)   \n",
            "1426                  YouBike2.0_NTU Black Forest(West)   \n",
            "1427  YouBike2.0_NTU Dept. of Veterinary Medicine(So...   \n",
            "1428            YouBike2.0_NTU Sports Center(Southeast)   \n",
            "1429    YouBike2.0_NTU Ming - Da Hall (Staff Dormitory)   \n",
            "\n",
            "                                         aren act        srcUpdateTime  \\\n",
            "0               No.235， Sec. 2， Fuxing S. Rd.   1  2024-07-10 11:20:30   \n",
            "1        No.273， Sec. 2， Fuxing S. Rd. (West)   1  2024-07-10 11:20:30   \n",
            "2         No. 7， Ln. 96， Sec. 2， Heping E. Rd   1  2024-07-10 11:20:30   \n",
            "3       No. 33， Ln. 118， Sec. 2， Heping E. Rd   1  2024-07-10 11:20:30   \n",
            "4              No. 368， Sec. 2， Fuxing S. Rd.   1  2024-07-10 11:20:30   \n",
            "...                                       ...  ..                  ...   \n",
            "1425              NTU Main Library(Southwest)   1  2024-07-10 11:20:30   \n",
            "1426             NTU Tsai Lecture Hall(South)   1  2024-07-10 11:20:30   \n",
            "1427  NTU Dept. of Veterinary Medicine(South)   1  2024-07-10 11:20:30   \n",
            "1428                  NTU Sports Center(East)   1  2024-07-10 11:20:30   \n",
            "1429               NTU Ming - Da Hall (North)   1  2024-07-10 11:20:30   \n",
            "\n",
            "               updateTime             infoTime    infoDate  total  \\\n",
            "0     2024-07-10 11:20:27  2024-07-10 11:18:19  2024-07-10     28   \n",
            "1     2024-07-10 11:20:27  2024-07-10 11:15:21  2024-07-10     21   \n",
            "2     2024-07-10 11:20:27  2024-07-10 10:40:27  2024-07-10     16   \n",
            "3     2024-07-10 11:20:27  2024-07-10 11:19:20  2024-07-10     11   \n",
            "4     2024-07-10 11:20:27  2024-07-10 11:19:20  2024-07-10     16   \n",
            "...                   ...                  ...         ...    ...   \n",
            "1425  2024-07-10 11:20:27  2024-07-10 11:13:15  2024-07-10     30   \n",
            "1426  2024-07-10 11:20:27  2024-07-10 11:18:19  2024-07-10     20   \n",
            "1427  2024-07-10 11:20:27  2024-07-10 10:47:15  2024-07-10     24   \n",
            "1428  2024-07-10 11:20:27  2024-07-10 11:14:14  2024-07-10     40   \n",
            "1429  2024-07-10 11:20:27  2024-07-10 10:57:21  2024-07-10     18   \n",
            "\n",
            "      available_rent_bikes  latitude  longitude  available_return_bikes  \n",
            "0                        2  25.02605  121.54360                      25  \n",
            "1                        1  25.02565  121.54357                      20  \n",
            "2                        0  25.02429  121.54124                      16  \n",
            "3                        1  25.02351  121.54282                      10  \n",
            "4                        4  25.02153  121.54299                      12  \n",
            "...                    ...       ...        ...                     ...  \n",
            "1425                    16  25.01690  121.54031                       0  \n",
            "1426                    19  25.01995  121.54347                       1  \n",
            "1427                    18  25.01791  121.54242                       0  \n",
            "1428                    34  25.02112  121.53591                       0  \n",
            "1429                     3  25.01816  121.54469                      15  \n",
            "\n",
            "[1430 rows x 18 columns]\n"
          ]
        }
      ]
    },
    {
      "cell_type": "code",
      "source": [
        "import pandas as pd\n",
        "\n",
        "# 读取 JSON 文件\n",
        "json_file_path = 'path/to/your/file.json'\n",
        "data = pd.read_json(json_file_path)\n",
        "\n",
        "# 将数据写入 Excel 文件\n",
        "excel_file_path = 'path/to/your/file.xlsx'\n",
        "data.to_excel(excel_file_path, index=False)"
      ],
      "metadata": {
        "colab": {
          "base_uri": "https://localhost:8080/",
          "height": 406
        },
        "id": "kDFh16uUqQgF",
        "outputId": "64efbea2-d397-42b0-8c9d-a98c1d4b0ab6"
      },
      "execution_count": 47,
      "outputs": [
        {
          "output_type": "error",
          "ename": "FileNotFoundError",
          "evalue": "File path/to/your/file.json does not exist",
          "traceback": [
            "\u001b[0;31m---------------------------------------------------------------------------\u001b[0m",
            "\u001b[0;31mFileNotFoundError\u001b[0m                         Traceback (most recent call last)",
            "\u001b[0;32m<ipython-input-47-0383ba7c762f>\u001b[0m in \u001b[0;36m<cell line: 5>\u001b[0;34m()\u001b[0m\n\u001b[1;32m      3\u001b[0m \u001b[0;31m# 读取 JSON 文件\u001b[0m\u001b[0;34m\u001b[0m\u001b[0;34m\u001b[0m\u001b[0m\n\u001b[1;32m      4\u001b[0m \u001b[0mjson_file_path\u001b[0m \u001b[0;34m=\u001b[0m \u001b[0;34m'path/to/your/file.json'\u001b[0m\u001b[0;34m\u001b[0m\u001b[0;34m\u001b[0m\u001b[0m\n\u001b[0;32m----> 5\u001b[0;31m \u001b[0mdata\u001b[0m \u001b[0;34m=\u001b[0m \u001b[0mpd\u001b[0m\u001b[0;34m.\u001b[0m\u001b[0mread_json\u001b[0m\u001b[0;34m(\u001b[0m\u001b[0mjson_file_path\u001b[0m\u001b[0;34m)\u001b[0m\u001b[0;34m\u001b[0m\u001b[0;34m\u001b[0m\u001b[0m\n\u001b[0m\u001b[1;32m      6\u001b[0m \u001b[0;34m\u001b[0m\u001b[0m\n\u001b[1;32m      7\u001b[0m \u001b[0;31m# 将数据写入 Excel 文件\u001b[0m\u001b[0;34m\u001b[0m\u001b[0;34m\u001b[0m\u001b[0m\n",
            "\u001b[0;32m/usr/local/lib/python3.10/dist-packages/pandas/io/json/_json.py\u001b[0m in \u001b[0;36mread_json\u001b[0;34m(path_or_buf, orient, typ, dtype, convert_axes, convert_dates, keep_default_dates, precise_float, date_unit, encoding, encoding_errors, lines, chunksize, compression, nrows, storage_options, dtype_backend, engine)\u001b[0m\n\u001b[1;32m    758\u001b[0m         \u001b[0mconvert_axes\u001b[0m \u001b[0;34m=\u001b[0m \u001b[0;32mTrue\u001b[0m\u001b[0;34m\u001b[0m\u001b[0;34m\u001b[0m\u001b[0m\n\u001b[1;32m    759\u001b[0m \u001b[0;34m\u001b[0m\u001b[0m\n\u001b[0;32m--> 760\u001b[0;31m     json_reader = JsonReader(\n\u001b[0m\u001b[1;32m    761\u001b[0m         \u001b[0mpath_or_buf\u001b[0m\u001b[0;34m,\u001b[0m\u001b[0;34m\u001b[0m\u001b[0;34m\u001b[0m\u001b[0m\n\u001b[1;32m    762\u001b[0m         \u001b[0morient\u001b[0m\u001b[0;34m=\u001b[0m\u001b[0morient\u001b[0m\u001b[0;34m,\u001b[0m\u001b[0;34m\u001b[0m\u001b[0;34m\u001b[0m\u001b[0m\n",
            "\u001b[0;32m/usr/local/lib/python3.10/dist-packages/pandas/io/json/_json.py\u001b[0m in \u001b[0;36m__init__\u001b[0;34m(self, filepath_or_buffer, orient, typ, dtype, convert_axes, convert_dates, keep_default_dates, precise_float, date_unit, encoding, lines, chunksize, compression, nrows, storage_options, encoding_errors, dtype_backend, engine)\u001b[0m\n\u001b[1;32m    859\u001b[0m             \u001b[0mself\u001b[0m\u001b[0;34m.\u001b[0m\u001b[0mdata\u001b[0m \u001b[0;34m=\u001b[0m \u001b[0mfilepath_or_buffer\u001b[0m\u001b[0;34m\u001b[0m\u001b[0;34m\u001b[0m\u001b[0m\n\u001b[1;32m    860\u001b[0m         \u001b[0;32melif\u001b[0m \u001b[0mself\u001b[0m\u001b[0;34m.\u001b[0m\u001b[0mengine\u001b[0m \u001b[0;34m==\u001b[0m \u001b[0;34m\"ujson\"\u001b[0m\u001b[0;34m:\u001b[0m\u001b[0;34m\u001b[0m\u001b[0;34m\u001b[0m\u001b[0m\n\u001b[0;32m--> 861\u001b[0;31m             \u001b[0mdata\u001b[0m \u001b[0;34m=\u001b[0m \u001b[0mself\u001b[0m\u001b[0;34m.\u001b[0m\u001b[0m_get_data_from_filepath\u001b[0m\u001b[0;34m(\u001b[0m\u001b[0mfilepath_or_buffer\u001b[0m\u001b[0;34m)\u001b[0m\u001b[0;34m\u001b[0m\u001b[0;34m\u001b[0m\u001b[0m\n\u001b[0m\u001b[1;32m    862\u001b[0m             \u001b[0mself\u001b[0m\u001b[0;34m.\u001b[0m\u001b[0mdata\u001b[0m \u001b[0;34m=\u001b[0m \u001b[0mself\u001b[0m\u001b[0;34m.\u001b[0m\u001b[0m_preprocess_data\u001b[0m\u001b[0;34m(\u001b[0m\u001b[0mdata\u001b[0m\u001b[0;34m)\u001b[0m\u001b[0;34m\u001b[0m\u001b[0;34m\u001b[0m\u001b[0m\n\u001b[1;32m    863\u001b[0m \u001b[0;34m\u001b[0m\u001b[0m\n",
            "\u001b[0;32m/usr/local/lib/python3.10/dist-packages/pandas/io/json/_json.py\u001b[0m in \u001b[0;36m_get_data_from_filepath\u001b[0;34m(self, filepath_or_buffer)\u001b[0m\n\u001b[1;32m    915\u001b[0m             \u001b[0;32mand\u001b[0m \u001b[0;32mnot\u001b[0m \u001b[0mfile_exists\u001b[0m\u001b[0;34m(\u001b[0m\u001b[0mfilepath_or_buffer\u001b[0m\u001b[0;34m)\u001b[0m\u001b[0;34m\u001b[0m\u001b[0;34m\u001b[0m\u001b[0m\n\u001b[1;32m    916\u001b[0m         ):\n\u001b[0;32m--> 917\u001b[0;31m             \u001b[0;32mraise\u001b[0m \u001b[0mFileNotFoundError\u001b[0m\u001b[0;34m(\u001b[0m\u001b[0;34mf\"File {filepath_or_buffer} does not exist\"\u001b[0m\u001b[0;34m)\u001b[0m\u001b[0;34m\u001b[0m\u001b[0;34m\u001b[0m\u001b[0m\n\u001b[0m\u001b[1;32m    918\u001b[0m \u001b[0;34m\u001b[0m\u001b[0m\n\u001b[1;32m    919\u001b[0m         \u001b[0;32mreturn\u001b[0m \u001b[0mfilepath_or_buffer\u001b[0m\u001b[0;34m\u001b[0m\u001b[0;34m\u001b[0m\u001b[0m\n",
            "\u001b[0;31mFileNotFoundError\u001b[0m: File path/to/your/file.json does not exist"
          ]
        }
      ]
    }
  ]
}