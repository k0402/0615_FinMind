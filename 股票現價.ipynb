{
  "nbformat": 4,
  "nbformat_minor": 0,
  "metadata": {
    "colab": {
      "provenance": [],
      "authorship_tag": "ABX9TyNhD4femM3A2EycWkJvISwW",
      "include_colab_link": true
    },
    "kernelspec": {
      "name": "python3",
      "display_name": "Python 3"
    },
    "language_info": {
      "name": "python"
    }
  },
  "cells": [
    {
      "cell_type": "markdown",
      "metadata": {
        "id": "view-in-github",
        "colab_type": "text"
      },
      "source": [
        "<a href=\"https://colab.research.google.com/github/k0402/0615_FinMind/blob/main/%E8%82%A1%E7%A5%A8%E7%8F%BE%E5%83%B9.ipynb\" target=\"_parent\"><img src=\"https://colab.research.google.com/assets/colab-badge.svg\" alt=\"Open In Colab\"/></a>"
      ]
    },
    {
      "cell_type": "code",
      "execution_count": 1,
      "metadata": {
        "colab": {
          "base_uri": "https://localhost:8080/"
        },
        "id": "Ob_8RYiKmljZ",
        "outputId": "11e4d2e8-abce-4535-b240-1821e153d3ae"
      },
      "outputs": [
        {
          "output_type": "stream",
          "name": "stdout",
          "text": [
            "收盤價已保存到 股票收盤價.xlsx\n"
          ]
        }
      ],
      "source": [
        "import yfinance as yf\n",
        "import pandas as pd\n",
        "\n",
        "# 定義股票代號\n",
        "stocks = {\n",
        "    \"元大臺灣50\": \"0050.TW\",\n",
        "    \"元大高股息\": \"0056.TW\",\n",
        "    \"國泰永續高股息\": \"00878.TW\",\n",
        "    \"群益臺灣精選高息\": \"00919.TW\",\n",
        "    \"復華臺灣科技優息\": \"00929.TW\",\n",
        "    \"中信成長高股息\": \"00934.TW\",\n",
        "    \"元大臺灣價值高息\": \"00940.TW\",\n",
        "    \"鴻海\": \"2317.TW\",\n",
        "    \"台積電\": \"2330.TW\",\n",
        "    \"長榮\": \"2603.TW\",\n",
        "    \"富邦金\": \"2881.TW\",\n",
        "    \"國泰金\": \"2882.TW\"\n",
        "}\n",
        "\n",
        "# 抓取今日收盤價\n",
        "def get_closing_prices(stock_symbols):\n",
        "    closing_prices = {}\n",
        "    for name, symbol in stock_symbols.items():\n",
        "        stock = yf.Ticker(symbol)\n",
        "        hist = stock.history(period=\"1d\")  # 只抓取一天的數據\n",
        "        closing_price = hist['Close'].iloc[-1]  # 獲取最新的收盤價\n",
        "        closing_prices[name] = closing_price\n",
        "    return closing_prices\n",
        "\n",
        "# 獲取收盤價並存成 DataFrame\n",
        "closing_prices = get_closing_prices(stocks)\n",
        "closing_prices_df = pd.DataFrame(list(closing_prices.items()), columns=['股票名稱', '收盤價'])\n",
        "\n",
        "# 將 DataFrame 輸出成 Excel 檔案\n",
        "output_file = '股票收盤價.xlsx'\n",
        "closing_prices_df.to_excel(output_file, index=False)\n",
        "\n",
        "print(f\"收盤價已保存到 {output_file}\")\n"
      ]
    }
  ]
}