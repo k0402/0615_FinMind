{
  "nbformat": 4,
  "nbformat_minor": 0,
  "metadata": {
    "colab": {
      "provenance": [],
      "authorship_tag": "ABX9TyNJTE58M+qQhWl6+HT+I6Zp",
      "include_colab_link": true
    },
    "kernelspec": {
      "name": "python3",
      "display_name": "Python 3"
    },
    "language_info": {
      "name": "python"
    }
  },
  "cells": [
    {
      "cell_type": "markdown",
      "metadata": {
        "id": "view-in-github",
        "colab_type": "text"
      },
      "source": [
        "<a href=\"https://colab.research.google.com/github/k0402/0615_FinMind/blob/main/Ubike_1.ipynb\" target=\"_parent\"><img src=\"https://colab.research.google.com/assets/colab-badge.svg\" alt=\"Open In Colab\"/></a>"
      ]
    },
    {
      "cell_type": "code",
      "source": [
        "\n",
        "import requests\n",
        "\n",
        "fname = \"Youbike2.json\"\n",
        "url = \"https://tcgbusfs.blob.core.windows.net/dotapp/youbike/v2/youbike_immediate.json\"\n",
        "\n",
        "r = requests.get(url)\n",
        "if r.status_code == 200:\n",
        "    r.encoding = \"utf-8\"\n",
        "    with open(fname, 'w', encoding=\"utf8\") as fp:\n",
        "        fp.write(r.text)\n",
        "\n",
        "        import pandas as pd\n",
        "import json\n",
        "\n",
        "# 假设你的 JSON 文件名为 'data.json'\n",
        "json_file_path = 'Youbike2.json'\n",
        "\n",
        "# 读取 JSON 文件\n",
        "with open(json_file_path, 'r') as file:\n",
        "    data = json.load(file)\n",
        "\n",
        "# 将 JSON 数据转换为 DataFrame\n",
        "df = pd.json_normalize(data)\n",
        "\n",
        "# 显示 DataFrame\n",
        "print(df)\n"
      ],
      "metadata": {
        "id": "A0UGz5QIoitX"
      },
      "execution_count": null,
      "outputs": []
    }
  ]
}