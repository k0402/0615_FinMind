{
  "nbformat": 4,
  "nbformat_minor": 0,
  "metadata": {
    "colab": {
      "provenance": [],
      "authorship_tag": "ABX9TyNdDhKbisuMmmserNXcSMyb",
      "include_colab_link": true
    },
    "kernelspec": {
      "name": "python3",
      "display_name": "Python 3"
    },
    "language_info": {
      "name": "python"
    }
  },
  "cells": [
    {
      "cell_type": "markdown",
      "metadata": {
        "id": "view-in-github",
        "colab_type": "text"
      },
      "source": [
        "<a href=\"https://colab.research.google.com/github/k0402/0615_FinMind/blob/main/%E6%89%80%E6%9C%89stock_id.ipynb\" target=\"_parent\"><img src=\"https://colab.research.google.com/assets/colab-badge.svg\" alt=\"Open In Colab\"/></a>"
      ]
    },
    {
      "cell_type": "code",
      "execution_count": null,
      "metadata": {
        "id": "rbMra2j0ho0p"
      },
      "outputs": [],
      "source": [
        "!pip install FinMind\n",
        "from FinMind.data import DataLoader\n",
        "import pandas as pd\n",
        "# 初始化 FinMind DataLoader\n",
        "dl = DataLoader()\n",
        "\n",
        "# 取得所有股票 ID、名稱和產業分類\n",
        "stock_list = dl.taiwan_stock_info()\n",
        "\n",
        "# 篩選相關欄位\n",
        "stock_data = stock_list[['stock_id', 'stock_name', 'industry_category']]\n",
        "\n",
        "# 儲存為 Excel 檔案\n",
        "file_path = 'taiwan_stock_data.xlsx'\n",
        "stock_data.to_excel(file_path, index=False)\n",
        "\n",
        "print(f\"資料已儲存至 {file_path}\")"
      ]
    }
  ]
}